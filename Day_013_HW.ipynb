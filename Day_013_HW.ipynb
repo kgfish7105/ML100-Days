{
 "cells": [
  {
   "cell_type": "markdown",
   "metadata": {},
   "source": [
    "## 練習時間\n",
    "參考 Day 12 範例程式，離散化你覺得有興趣的欄位，並嘗試找出有趣的訊息"
   ]
  },
  {
   "cell_type": "code",
   "execution_count": 1,
   "metadata": {},
   "outputs": [],
   "source": [
    "# Import 需要的套件\n",
    "import os\n",
    "import numpy as np\n",
    "import pandas as pd\n",
    "\n",
    "import matplotlib.pyplot as plt\n",
    "%matplotlib inline"
   ]
  },
  {
   "cell_type": "markdown",
   "metadata": {},
   "source": [
    "### 之前做過的處理"
   ]
  },
  {
   "cell_type": "code",
   "execution_count": 3,
   "metadata": {},
   "outputs": [],
   "source": [
    "# 設定 data_path\n",
    "dir_data = './data/'\n",
    "f_app_train = os.path.join(dir_data, 'application_train.csv')\n",
    "f_app_test = os.path.join(dir_data, 'application_test.csv')\n",
    "\n",
    "app_train = pd.read_csv(f_app_train)\n",
    "app_test = pd.read_csv(f_app_test)\n",
    "\n",
    "from sklearn.preprocessing import LabelEncoder\n",
    "\n",
    "# Create a label encoder object\n",
    "le = LabelEncoder()\n",
    "le_count = 0\n",
    "\n",
    "# Iterate through the columns\n",
    "for col in app_train:\n",
    "    if app_train[col].dtype == 'object':\n",
    "        # If 2 or fewer unique categories\n",
    "        if len(list(app_train[col].unique())) <= 2:\n",
    "            # Train on the training data\n",
    "            le.fit(app_train[col])\n",
    "            # Transform both training and testing data\n",
    "            app_train[col] = le.transform(app_train[col])\n",
    "            app_test[col] = le.transform(app_test[col])\n",
    "            \n",
    "            # Keep track of how many columns were label encoded\n",
    "            le_count += 1\n",
    "            \n",
    "app_train = pd.get_dummies(app_train)\n",
    "app_test = pd.get_dummies(app_test)\n",
    "\n",
    "# Create an anomalous flag column\n",
    "app_train['DAYS_EMPLOYED_ANOM'] = app_train[\"DAYS_EMPLOYED\"] == 365243\n",
    "app_train['DAYS_EMPLOYED'].replace({365243: np.nan}, inplace = True)\n",
    "# also apply to testing dataset\n",
    "app_test['DAYS_EMPLOYED_ANOM'] = app_test[\"DAYS_EMPLOYED\"] == 365243\n",
    "app_test[\"DAYS_EMPLOYED\"].replace({365243: np.nan}, inplace = True)\n",
    "\n",
    "# absolute the value of DAYS_BIRTH\n",
    "app_train['DAYS_BIRTH'] = abs(app_train['DAYS_BIRTH'])\n",
    "app_test['DAYS_BIRTH'] = abs(app_test['DAYS_BIRTH'])"
   ]
  },
  {
   "cell_type": "code",
   "execution_count": 14,
   "metadata": {},
   "outputs": [
    {
     "data": {
      "text/plain": [
       "{'whiskers': [<matplotlib.lines.Line2D at 0xafd8438>,\n",
       "  <matplotlib.lines.Line2D at 0xafd8780>],\n",
       " 'caps': [<matplotlib.lines.Line2D at 0xafd8ac8>,\n",
       "  <matplotlib.lines.Line2D at 0xafd8e10>],\n",
       " 'boxes': [<matplotlib.lines.Line2D at 0xafb7fd0>],\n",
       " 'medians': [<matplotlib.lines.Line2D at 0xafd8ef0>],\n",
       " 'fliers': [<matplotlib.lines.Line2D at 0xb4fd4e0>],\n",
       " 'means': []}"
      ]
     },
     "execution_count": 14,
     "metadata": {},
     "output_type": "execute_result"
    },
    {
     "data": {
      "image/png": "[encoded data removed]",
      "text/plain": [
       "<Figure size 576x216 with 1 Axes>"
      ]
     },
     "metadata": {
      "needs_background": "light"
     },
     "output_type": "display_data"
    }
   ],
   "source": [
    "plt.figure(figsize=(8, 3))\n",
    "plt.boxplot(np.log10(app_train['AMT_INCOME_TOTAL']))"
   ]
  },
  {
   "cell_type": "code",
   "execution_count": 23,
   "metadata": {},
   "outputs": [
    {
     "data": {
      "text/html": [
       "<div>\n",
       "<style scoped>\n",
       "    .dataframe tbody tr th:only-of-type {\n",
       "        vertical-align: middle;\n",
       "    }\n",
       "\n",
       "    .dataframe tbody tr th {\n",
       "        vertical-align: top;\n",
       "    }\n",
       "\n",
       "    .dataframe thead th {\n",
       "        text-align: right;\n",
       "    }\n",
       "</style>\n",
       "<table border=\"1\" class=\"dataframe\">\n",
       "  <thead>\n",
       "    <tr style=\"text-align: right;\">\n",
       "      <th></th>\n",
       "      <th>TARGET</th>\n",
       "      <th>AMT_INCOME_TOTAL</th>\n",
       "    </tr>\n",
       "    <tr>\n",
       "      <th>discre_income</th>\n",
       "      <th></th>\n",
       "      <th></th>\n",
       "    </tr>\n",
       "  </thead>\n",
       "  <tbody>\n",
       "    <tr>\n",
       "      <th>(25649.999, 81000.0]</th>\n",
       "      <td>0.081908</td>\n",
       "      <td>66254.124685</td>\n",
       "    </tr>\n",
       "    <tr>\n",
       "      <th>(81000.0, 99000.0]</th>\n",
       "      <td>0.082232</td>\n",
       "      <td>91089.278813</td>\n",
       "    </tr>\n",
       "    <tr>\n",
       "      <th>(99000.0, 112500.0]</th>\n",
       "      <td>0.087192</td>\n",
       "      <td>111333.276330</td>\n",
       "    </tr>\n",
       "    <tr>\n",
       "      <th>(112500.0, 135000.0]</th>\n",
       "      <td>0.084894</td>\n",
       "      <td>131852.488657</td>\n",
       "    </tr>\n",
       "    <tr>\n",
       "      <th>(135000.0, 147150.0]</th>\n",
       "      <td>0.090007</td>\n",
       "      <td>142953.056026</td>\n",
       "    </tr>\n",
       "    <tr>\n",
       "      <th>(147150.0, 162000.0]</th>\n",
       "      <td>0.086407</td>\n",
       "      <td>157141.512098</td>\n",
       "    </tr>\n",
       "    <tr>\n",
       "      <th>(162000.0, 180000.0]</th>\n",
       "      <td>0.084224</td>\n",
       "      <td>178061.632269</td>\n",
       "    </tr>\n",
       "    <tr>\n",
       "      <th>(180000.0, 225000.0]</th>\n",
       "      <td>0.078065</td>\n",
       "      <td>212733.495347</td>\n",
       "    </tr>\n",
       "    <tr>\n",
       "      <th>(225000.0, 270000.0]</th>\n",
       "      <td>0.070401</td>\n",
       "      <td>259491.085277</td>\n",
       "    </tr>\n",
       "    <tr>\n",
       "      <th>(270000.0, 117000000.0]</th>\n",
       "      <td>0.061375</td>\n",
       "      <td>393910.389377</td>\n",
       "    </tr>\n",
       "  </tbody>\n",
       "</table>\n",
       "</div>"
      ],
      "text/plain": [
       "                           TARGET  AMT_INCOME_TOTAL\n",
       "discre_income                                      \n",
       "(25649.999, 81000.0]     0.081908      66254.124685\n",
       "(81000.0, 99000.0]       0.082232      91089.278813\n",
       "(99000.0, 112500.0]      0.087192     111333.276330\n",
       "(112500.0, 135000.0]     0.084894     131852.488657\n",
       "(135000.0, 147150.0]     0.090007     142953.056026\n",
       "(147150.0, 162000.0]     0.086407     157141.512098\n",
       "(162000.0, 180000.0]     0.084224     178061.632269\n",
       "(180000.0, 225000.0]     0.078065     212733.495347\n",
       "(225000.0, 270000.0]     0.070401     259491.085277\n",
       "(270000.0, 117000000.0]  0.061375     393910.389377"
      ]
     },
     "execution_count": 23,
     "metadata": {},
     "output_type": "execute_result"
    }
   ],
   "source": [
    "income_df = app_train[['TARGET', 'AMT_INCOME_TOTAL']].copy()\n",
    "income_df['discre_income'] = pd.qcut(income_df['AMT_INCOME_TOTAL'], 10)\n",
    "income_df = income_df.sort_values(by='discre_income')\n",
    "income_df.groupby('discre_income').mean()"
   ]
  },
  {
   "cell_type": "code",
   "execution_count": 35,
   "metadata": {},
   "outputs": [
    {
     "data": {
      "image/png": "[encoded data removed]",
      "text/plain": [
       "<Figure size 432x720 with 1 Axes>"
      ]
     },
     "metadata": {
      "needs_background": "light"
     },
     "output_type": "display_data"
    }
   ],
   "source": [
    "import seaborn as sns # 另一個繪圖-樣式套件\n",
    "\n",
    "plt.figure(figsize = (6, 10))\n",
    "# sns.catplot(x='discre_income', y='TARGET', data=income_df, kind='bar')\n",
    "sns.barplot(x='discre_income', y='TARGET', data=income_df)\n",
    "# Plot labeling\n",
    "plt.xticks(rotation = 75); plt.xlabel('discre_income'); plt.ylabel('Failure to Repay (%)')\n",
    "plt.title('Failure to Repay by income Group');"
   ]
  }
 ],
 "metadata": {
  "kernelspec": {
   "display_name": "Python 3",
   "language": "python",
   "name": "python3"
  },
  "language_info": {
   "codemirror_mode": {
    "name": "ipython",
    "version": 3
   },
   "file_extension": ".py",
   "mimetype": "text/x-python",
   "name": "python",
   "nbconvert_exporter": "python",
   "pygments_lexer": "ipython3",
   "version": "3.7.1"
  }
 },
 "nbformat": 4,
 "nbformat_minor": 2
}
