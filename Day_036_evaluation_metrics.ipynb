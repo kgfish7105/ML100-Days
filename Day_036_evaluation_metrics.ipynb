{
 "cells": [
  {
   "cell_type": "code",
   "execution_count": 2,
   "metadata": {},
   "outputs": [],
   "source": [
    "from sklearn import metrics, datasets\n",
    "from sklearn.linear_model import LinearRegression\n",
    "from sklearn.model_selection import train_test_split\n",
    "\n",
    "import matplotlib.pyplot as plt\n",
    "from matplotlib.pylab import rcParams\n",
    "import numpy as np\n",
    "%matplotlib inline"
   ]
  },
  {
   "cell_type": "markdown",
   "metadata": {},
   "source": [
    "## 回歸問題\n",
    "常見的評估指標有\n",
    "- MAE\n",
    "- MSE\n",
    "- R-square"
   ]
  },
  {
   "cell_type": "code",
   "execution_count": 5,
   "metadata": {
    "scrolled": true
   },
   "outputs": [
    {
     "data": {
      "text/plain": [
       "array([[ 0.93128012],\n",
       "       [ 0.08704707],\n",
       "       [-1.05771093],\n",
       "       [ 0.31424733],\n",
       "       [-0.47917424],\n",
       "       [ 0.64768854],\n",
       "       [-0.46341769],\n",
       "       [ 0.54256004],\n",
       "       [ 0.61167629],\n",
       "       [ 1.0035329 ],\n",
       "       [ 0.8219025 ],\n",
       "       [ 1.53803657],\n",
       "       [ 0.73846658],\n",
       "       [-0.21967189],\n",
       "       [-0.8084936 ],\n",
       "       [ 0.09176078],\n",
       "       [-1.95967012],\n",
       "       [ 0.51326743],\n",
       "       [ 1.03099952],\n",
       "       [-2.6197451 ],\n",
       "       [ 0.49671415],\n",
       "       [ 0.09707755],\n",
       "       [-0.46572975],\n",
       "       [ 0.91540212],\n",
       "       [ 1.56464366],\n",
       "       [ 1.46564877],\n",
       "       [-0.60063869],\n",
       "       [-0.03582604],\n",
       "       [-0.60170661],\n",
       "       [-1.19620662],\n",
       "       [ 0.35711257],\n",
       "       [ 0.37569802],\n",
       "       [ 0.26105527],\n",
       "       [-0.5297602 ],\n",
       "       [-0.90802408],\n",
       "       [ 0.19686124],\n",
       "       [-0.29900735],\n",
       "       [ 0.36163603],\n",
       "       [ 0.82254491],\n",
       "       [-0.29169375],\n",
       "       [ 0.36139561],\n",
       "       [-0.676922  ],\n",
       "       [ 1.52302986],\n",
       "       [-0.51827022],\n",
       "       [-0.23415337],\n",
       "       [-0.39210815],\n",
       "       [-0.3011037 ],\n",
       "       [-0.64511975],\n",
       "       [ 0.32875111],\n",
       "       [ 0.2088636 ],\n",
       "       [-0.32766215],\n",
       "       [ 0.00511346],\n",
       "       [-0.23413696],\n",
       "       [ 1.47789404],\n",
       "       [-0.38508228],\n",
       "       [ 0.34361829],\n",
       "       [ 0.33126343],\n",
       "       [-0.18565898],\n",
       "       [-0.23458713],\n",
       "       [-1.98756891],\n",
       "       [ 0.32408397],\n",
       "       [-0.2257763 ],\n",
       "       [-1.10633497],\n",
       "       [-0.70205309],\n",
       "       [-1.46351495],\n",
       "       [ 0.96864499],\n",
       "       [-1.72491783],\n",
       "       [-1.91328024],\n",
       "       [-0.56228753],\n",
       "       [ 0.76743473],\n",
       "       [ 0.81252582],\n",
       "       [-1.4123037 ],\n",
       "       [-1.47852199],\n",
       "       [-1.22084365],\n",
       "       [-0.83921752],\n",
       "       [ 1.57921282],\n",
       "       [ 0.97554513],\n",
       "       [ 0.24196227],\n",
       "       [ 0.29612028],\n",
       "       [-0.54438272],\n",
       "       [-1.76304016],\n",
       "       [ 0.11092259],\n",
       "       [ 0.17136828],\n",
       "       [-1.32818605],\n",
       "       [ 1.05712223],\n",
       "       [-0.11564828],\n",
       "       [-0.46947439],\n",
       "       [-0.01349722],\n",
       "       [-1.01283112],\n",
       "       [-0.1382643 ],\n",
       "       [-1.15099358],\n",
       "       [ 1.35624003],\n",
       "       [ 0.0675282 ],\n",
       "       [-0.50175704],\n",
       "       [-0.46063877],\n",
       "       [ 1.85227818],\n",
       "       [-1.42474819],\n",
       "       [-0.71984421],\n",
       "       [-0.07201012],\n",
       "       [-0.30921238]])"
      ]
     },
     "execution_count": 5,
     "metadata": {},
     "output_type": "execute_result"
    }
   ],
   "source": [
    "X, y = datasets.make_regression(n_features=1, random_state=42, noise=4) # 生成資料\n",
    "X\n"
   ]
  },
  {
   "cell_type": "code",
   "execution_count": 11,
   "metadata": {},
   "outputs": [
    {
     "data": {
      "text/plain": [
       "6.0"
      ]
     },
     "execution_count": 11,
     "metadata": {},
     "output_type": "execute_result"
    }
   ],
   "source": [
    "tx = [4,10]\n",
    "ty = [2,0]\n",
    "\n",
    "metrics.mean_absolute_error(tx, ty) # (10 + 2) /2\n",
    "metrics.mean_squared_error(tx, ty) # (10^2 + 2^2)/2"
   ]
  },
  {
   "cell_type": "code",
   "execution_count": 17,
   "metadata": {},
   "outputs": [
    {
     "data": {
      "text/plain": [
       "array([  40.34302144,    4.19336052,  -44.82463681,   13.92196864,\n",
       "        -20.05196866,   28.19976374,  -19.37728083,   23.69821121,\n",
       "         26.65773622,   43.43685133,   35.65952358,   66.32404624,\n",
       "         32.08683666,   -8.94020046,  -34.15326849,    4.39519929,\n",
       "        -83.44610398,   22.44391545,   44.61295924, -111.7102032 ,\n",
       "         21.7351118 ,    4.62286099,  -19.47628218,   39.66313291,\n",
       "         67.46334925,   63.2244349 ,  -25.25301918,   -1.06800796,\n",
       "        -25.29874711,  -50.75495713,   15.75743795,   16.55325801,\n",
       "         11.64430971,  -22.21803585,  -38.41511637,    8.89555137,\n",
       "        -12.33730754,   15.9511301 ,   35.68703118,  -12.02414261,\n",
       "         15.94083544,  -28.51943454,   65.68146599,  -21.72604009,\n",
       "         -9.5602909 ,  -16.32383999,  -12.42707205,  -27.15767739,\n",
       "         14.54301353,    9.40948672,  -13.56429239,    0.68500193,\n",
       "         -9.5595879 ,   63.74877183,  -16.02299543,   15.17961916,\n",
       "         14.65058997,   -7.48378366,   -9.57886424,  -84.64071703,\n",
       "         14.34316879,   -9.20158853,  -46.90669547,  -29.59553611,\n",
       "        -62.20097344,   41.9429676 ,  -73.39412162,  -81.45971124,\n",
       "        -23.61084058,   33.32723914,   35.25801848,  -60.00813202,\n",
       "        -62.84356791,  -51.80990295,  -35.46885226,   68.08719379,\n",
       "         42.2384282 ,   10.82675644,   13.14577668,  -22.84416529,\n",
       "        -75.0265015 ,    5.21569908,    7.80395507,  -56.40625383,\n",
       "         45.73152109,   -4.48595876,  -19.63662557,   -0.11189867,\n",
       "        -42.90290458,   -5.45436601,  -48.8189558 ,   58.53960426,\n",
       "          3.35757199,  -21.01895374,  -19.25828871,   79.77972406,\n",
       "        -60.54099899,  -30.35734324,   -2.6173933 ,  -12.77428191])"
      ]
     },
     "execution_count": 17,
     "metadata": {},
     "output_type": "execute_result"
    }
   ],
   "source": [
    "X, y = datasets.make_regression(n_features=1, random_state=42, noise=4) # 生成資料\n",
    "model = LinearRegression() # 建立回歸模型\n",
    "model.fit(X, y) # 將資料放進模型訓練\n",
    "prediction = model.predict(X) # 進行預測\n",
    "prediction"
   ]
  },
  {
   "cell_type": "code",
   "execution_count": 25,
   "metadata": {
    "scrolled": true
   },
   "outputs": [
    {
     "data": {
      "text/plain": [
       "(100,)"
      ]
     },
     "execution_count": 25,
     "metadata": {},
     "output_type": "execute_result"
    }
   ],
   "source": [
    "X.shape\n",
    "y.shape\n",
    "prediction.shape\n",
    "# X\n",
    "# y"
   ]
  },
  {
   "cell_type": "markdown",
   "metadata": {},
   "source": [
    "我們隨機生成(X, y)資料，然後使用線性回歸模型做預測，再使用 MAE, MSE, R-square 評估"
   ]
  },
  {
   "cell_type": "code",
   "execution_count": 26,
   "metadata": {},
   "outputs": [
    {
     "name": "stdout",
     "output_type": "stream",
     "text": [
      "MAE:  2.841797252565566\n",
      "MSE:  12.48868006739824\n",
      "R-square:  0.9916581036260311\n"
     ]
    }
   ],
   "source": [
    "X, y = datasets.make_regression(n_features=1, random_state=42, noise=4) # 生成資料\n",
    "model = LinearRegression() # 建立回歸模型\n",
    "model.fit(X, y) # 將資料放進模型訓練\n",
    "prediction = model.predict(X) # 進行預測\n",
    "mae = metrics.mean_absolute_error(prediction, y) # 使用 MAE 評估\n",
    "mse = metrics.mean_squared_error(prediction, y) # 使用 MSE 評估\n",
    "r2 = metrics.r2_score(prediction, y) # 使用 r-square 評估\n",
    "print(\"MAE: \", mae)\n",
    "print(\"MSE: \", mse)\n",
    "print(\"R-square: \", r2)"
   ]
  },
  {
   "cell_type": "markdown",
   "metadata": {},
   "source": [
    "## 分類問題\n",
    "常見的評估指標有\n",
    "- AUC\n",
    "- F1-Score (Precision, Recall)"
   ]
  },
  {
   "cell_type": "code",
   "execution_count": 27,
   "metadata": {},
   "outputs": [],
   "source": [
    "cancer = datasets.load_breast_cancer() # 我們使用 sklearn 內含的乳癌資料集\n",
    "X_train, X_test, y_train, y_test = train_test_split(cancer.data, cancer.target, test_size=50, random_state=0)"
   ]
  },
  {
   "cell_type": "code",
   "execution_count": 37,
   "metadata": {
    "scrolled": true
   },
   "outputs": [
    {
     "data": {
      "text/plain": [
       "(569, 30)"
      ]
     },
     "execution_count": 37,
     "metadata": {},
     "output_type": "execute_result"
    }
   ],
   "source": [
    "cancer.data.shape\n",
    "# cancer.target.shape\n",
    "# X_train.shape\n",
    "# X_test.shape"
   ]
  },
  {
   "cell_type": "code",
   "execution_count": 38,
   "metadata": {},
   "outputs": [
    {
     "name": "stdout",
     "output_type": "stream",
     "text": [
      "[0 1 1 1 1 1 1 1 1 1 1 1 1 1 1 0 1 0 0 0 0 0 1 1 0 1 1 0 1 0 1 0 1 0 1 0 1\n",
      " 0 1 0 0 1 0 1 1 0 1 1 1 0]\n"
     ]
    }
   ],
   "source": [
    "print(y_test) # 測試集中的 label"
   ]
  },
  {
   "cell_type": "code",
   "execution_count": 39,
   "metadata": {},
   "outputs": [],
   "source": [
    "y_pred = np.random.random((50,)) # 我們先隨機生成 50 筆預測值，範圍都在 0~1 之間，代表機率值"
   ]
  },
  {
   "cell_type": "code",
   "execution_count": 40,
   "metadata": {},
   "outputs": [
    {
     "name": "stdout",
     "output_type": "stream",
     "text": [
      "[0.81583826 0.8373962  0.7675552  0.48210989 0.59058989 0.16625959\n",
      " 0.27355514 0.60175917 0.09097857 0.14524841 0.79996926 0.05166377\n",
      " 0.64044246 0.09378169 0.38875061 0.32953521 0.50003656 0.80577498\n",
      " 0.91180976 0.54983917 0.58455854 0.13017717 0.20166977 0.24687409\n",
      " 0.34811908 0.54510696 0.82844976 0.93915789 0.02530101 0.30987267\n",
      " 0.84828706 0.74930243 0.90330067 0.54791851 0.36038873 0.94628835\n",
      " 0.75103411 0.84465804 0.09534691 0.20052884 0.45300974 0.7381253\n",
      " 0.78924719 0.52682527 0.66625964 0.75637315 0.76020064 0.64895118\n",
      " 0.06682719 0.89891801]\n"
     ]
    }
   ],
   "source": [
    "print(y_pred)"
   ]
  },
  {
   "cell_type": "markdown",
   "metadata": {},
   "source": [
    "### AUC"
   ]
  },
  {
   "cell_type": "code",
   "execution_count": 41,
   "metadata": {},
   "outputs": [
    {
     "name": "stdout",
     "output_type": "stream",
     "text": [
      "AUC:  0.3378607809847199\n"
     ]
    }
   ],
   "source": [
    "auc = metrics.roc_auc_score(y_test, y_pred) # 使用 roc_auc_score 來評估。 **這邊特別注意 y_pred 必須要放機率值進去!**\n",
    "print(\"AUC: \", auc) # 得到結果約 0.5，與亂猜的結果相近，因為我們的預測值是用隨機生成的"
   ]
  },
  {
   "cell_type": "code",
   "execution_count": 42,
   "metadata": {},
   "outputs": [
    {
     "data": {
      "text/plain": [
       "array([1, 1, 1, 0, 1, 0, 0, 1, 0, 0, 1, 0, 1, 0, 0, 0, 1, 1, 1, 1, 1, 0,\n",
       "       0, 0, 0, 1, 1, 1, 0, 0, 1, 1, 1, 1, 0, 1, 1, 1, 0, 0, 0, 1, 1, 1,\n",
       "       1, 1, 1, 1, 0, 1])"
      ]
     },
     "execution_count": 42,
     "metadata": {},
     "output_type": "execute_result"
    }
   ],
   "source": [
    "threshold = 0.5\n",
    "np.where(y_pred>threshold, 1, 0)"
   ]
  },
  {
   "cell_type": "markdown",
   "metadata": {},
   "source": [
    "## F1-Score"
   ]
  },
  {
   "cell_type": "code",
   "execution_count": 43,
   "metadata": {},
   "outputs": [
    {
     "name": "stdout",
     "output_type": "stream",
     "text": [
      "F1-Score:  0.5573770491803278\n",
      "Precision:  0.5666666666666667\n",
      "Recall:  0.5483870967741935\n"
     ]
    }
   ],
   "source": [
    "threshold = 0.5 \n",
    "y_pred_binarized = np.where(y_pred>threshold, 1, 0) # 使用 np.where 函數, 將 y_pred > 0.5 的值變為 1，小於 0.5 的為 0\n",
    "f1 = metrics.f1_score(y_test, y_pred_binarized) # 使用 F1-Score 評估\n",
    "precision = metrics.precision_score(y_test, y_pred_binarized) # 使用 Precision 評估\n",
    "recall  = metrics.recall_score(y_test, y_pred_binarized) # 使用 recall 評估\n",
    "print(\"F1-Score: \", f1) \n",
    "print(\"Precision: \", precision)\n",
    "print(\"Recall: \", recall)"
   ]
  },
  {
   "cell_type": "markdown",
   "metadata": {},
   "source": [
    "## 作業\n",
    "請參考 F1-score 的公式與[原始碼](https://github.com/scikit-learn/scikit-learn/blob/bac89c2/sklearn/metrics/classification.py#L620)，試著寫出 F2-Score 的計算函數"
   ]
  },
  {
   "cell_type": "code",
   "execution_count": null,
   "metadata": {},
   "outputs": [],
   "source": []
  }
 ],
 "metadata": {
  "kernelspec": {
   "display_name": "Python 3",
   "language": "python",
   "name": "python3"
  },
  "language_info": {
   "codemirror_mode": {
    "name": "ipython",
    "version": 3
   },
   "file_extension": ".py",
   "mimetype": "text/x-python",
   "name": "python",
   "nbconvert_exporter": "python",
   "pygments_lexer": "ipython3",
   "version": "3.6.4"
  }
 },
 "nbformat": 4,
 "nbformat_minor": 2
}
