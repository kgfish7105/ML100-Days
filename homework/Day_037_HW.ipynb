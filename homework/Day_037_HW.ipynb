{
 "cells": [
  {
   "cell_type": "markdown",
   "metadata": {},
   "source": [
    "## 作業"
   ]
  },
  {
   "cell_type": "markdown",
   "metadata": {},
   "source": [
    "請閱讀以下相關文獻，並回答以下問題\n",
    "\n",
    "[Linear Regression 詳細介紹](https://brohrer.mcknote.com/zh-Hant/how_machine_learning_works/how_linear_regression_works.html)\n",
    "\n",
    "[Logistics Regression 詳細介紹](https://medium.com/@yehjames/%E8%B3%87%E6%96%99%E5%88%86%E6%9E%90-%E6%A9%9F%E5%99%A8%E5%AD%B8%E7%BF%92-%E7%AC%AC3-3%E8%AC%9B-%E7%B7%9A%E6%80%A7%E5%88%86%E9%A1%9E-%E9%82%8F%E8%BC%AF%E6%96%AF%E5%9B%9E%E6%AD%B8-logistic-regression-%E4%BB%8B%E7%B4%B9-a1a5f47017e5)\n"
   ]
  },
  {
   "cell_type": "markdown",
   "metadata": {},
   "source": [
    "1. 線性回歸模型能夠準確預測非線性關係的資料集嗎?\n",
    "2. 回歸模型是否對資料分布有基本假設?\n"
   ]
  },
  {
   "cell_type": "markdown",
   "metadata": {},
   "source": [
    "##  \n",
    "- \"1\".\n",
    "處理非線性麻煩，在不引入其他方法下，只能處理線性可分的數據(二分類問題)  \n",
    "非線性是模型中出現 變數二次方以上 的項，所以如果加入多變數 或 高次方的模型，仍可以用在Logisitic 分類非線性資料\n",
    "參考: https://allenlu2007.wordpress.com/2015/12/17/logistic-regression-in-python/  \n",
    "http://aimotion.blogspot.com/2011/11/machine-learning-with-python-logistic.html\n",
    "\n",
    "不可能用 linear function 把 data 分成兩類。有兩種方式:   \n",
    "(1) 使用 nonlinear classification algorithm (e.g. neural network, nonlinear SVM);  \n",
    "(2) 把 data transform 成 linear separable.\n",
    "\n",
    "\n",
    "- \"2\". \n",
    "回歸模型對資料是基於常態分布的假設，且誤差項間獨立"
   ]
  }
 ],
 "metadata": {
  "kernelspec": {
   "display_name": "Python 3",
   "language": "python",
   "name": "python3"
  },
  "language_info": {
   "codemirror_mode": {
    "name": "ipython",
    "version": 3
   },
   "file_extension": ".py",
   "mimetype": "text/x-python",
   "name": "python",
   "nbconvert_exporter": "python",
   "pygments_lexer": "ipython3",
   "version": "3.6.4"
  }
 },
 "nbformat": 4,
 "nbformat_minor": 2
}
