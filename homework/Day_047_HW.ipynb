{
 "cells": [
  {
   "cell_type": "markdown",
   "metadata": {},
   "source": [
    "# 作業\n",
    "請使用不同的資料集，並使用 hyper-parameter search 的方式，看能不能找出最佳的超參數組合"
   ]
  },
  {
   "cell_type": "markdown",
   "metadata": {},
   "source": [
    "# 使用 K-fold Cross-validation 來切分資料"
   ]
  },
  {
   "cell_type": "code",
   "execution_count": 2,
   "metadata": {},
   "outputs": [
    {
     "name": "stdout",
     "output_type": "stream",
     "text": [
      "Shape of X:  (10, 5)\n",
      "Shape of y:  (10,)\n"
     ]
    }
   ],
   "source": [
    "import numpy as np\n",
    "X = np.arange(50).reshape(10, 5) # 生成從 0 到 50 的 array，並 reshape 成 (10, 5) 的 matrix\n",
    "y = np.zeros(10) # 生成一個全零 arrary\n",
    "y[:5] = 1 # 將一半的值改為 1\n",
    "print(\"Shape of X: \", X.shape)\n",
    "print(\"Shape of y: \", y.shape)"
   ]
  },
  {
   "cell_type": "code",
   "execution_count": 5,
   "metadata": {},
   "outputs": [
    {
     "data": {
      "text/plain": [
       "<generator object _BaseKFold.split at 0x0000000008B789A8>"
      ]
     },
     "execution_count": 5,
     "metadata": {},
     "output_type": "execute_result"
    }
   ],
   "source": [
    "from sklearn.model_selection import train_test_split, KFold\n",
    "kf = KFold(n_splits=5)\n",
    "kf.split(X)\n",
    "for train_index, test_index in kf.split(X):\n",
    "    print()"
   ]
  },
  {
   "cell_type": "code",
   "execution_count": 6,
   "metadata": {},
   "outputs": [
    {
     "name": "stdout",
     "output_type": "stream",
     "text": [
      "index:  [2 3 4 5 6 7 8 9]\n",
      "index2:  [0 1]\n",
      "FOLD 1: \n",
      "X_test:  [[0 1 2 3 4]\n",
      " [5 6 7 8 9]]\n",
      "Y_test:  [1. 1.]\n",
      "------------------------------\n",
      "index:  [0 1 4 5 6 7 8 9]\n",
      "index2:  [2 3]\n",
      "FOLD 2: \n",
      "X_test:  [[10 11 12 13 14]\n",
      " [15 16 17 18 19]]\n",
      "Y_test:  [1. 1.]\n",
      "------------------------------\n",
      "index:  [0 1 2 3 6 7 8 9]\n",
      "index2:  [4 5]\n",
      "FOLD 3: \n",
      "X_test:  [[20 21 22 23 24]\n",
      " [25 26 27 28 29]]\n",
      "Y_test:  [1. 0.]\n",
      "------------------------------\n",
      "index:  [0 1 2 3 4 5 8 9]\n",
      "index2:  [6 7]\n",
      "FOLD 4: \n",
      "X_test:  [[30 31 32 33 34]\n",
      " [35 36 37 38 39]]\n",
      "Y_test:  [0. 0.]\n",
      "------------------------------\n",
      "index:  [0 1 2 3 4 5 6 7]\n",
      "index2:  [8 9]\n",
      "FOLD 5: \n",
      "X_test:  [[40 41 42 43 44]\n",
      " [45 46 47 48 49]]\n",
      "Y_test:  [0. 0.]\n",
      "------------------------------\n"
     ]
    }
   ],
   "source": [
    "kf = KFold(n_splits=5)\n",
    "i = 0\n",
    "for train_index, test_index in kf.split(X):\n",
    "    i +=1 \n",
    "    X_train, X_test = X[train_index], X[test_index]\n",
    "    y_train, y_test = y[train_index], y[test_index]\n",
    "    print(\"index: \", train_index)\n",
    "    print(\"index2: \", test_index)\n",
    "    print(\"FOLD {}: \".format(i))\n",
    "    print(\"X_test: \", X_test)\n",
    "    print(\"Y_test: \", y_test)\n",
    "    print(\"-\"*30)"
   ]
  },
  {
   "cell_type": "code",
   "execution_count": 90,
   "metadata": {},
   "outputs": [],
   "source": [
    "from sklearn import datasets, metrics\n",
    "from sklearn.model_selection import train_test_split, KFold, GridSearchCV\n",
    "from sklearn.ensemble import GradientBoostingClassifier\n",
    "iris = datasets.load_iris()"
   ]
  },
  {
   "cell_type": "code",
   "execution_count": 91,
   "metadata": {},
   "outputs": [
    {
     "data": {
      "text/plain": [
       "(150,)"
      ]
     },
     "execution_count": 91,
     "metadata": {},
     "output_type": "execute_result"
    }
   ],
   "source": [
    "iris.target.shape"
   ]
  },
  {
   "cell_type": "markdown",
   "metadata": {},
   "source": [
    "# 流程:\n",
    "- 先把資料切成 train data(3/4)、 test data(1/4)\n",
    "- 把train data 用Cross validation(避免使model依賴同一組train data，泛化) 分別套用在Grid search找最佳參數\n",
    "- 統計每一輪cross validation的參數，選擇出現最多次數的那組參數\n",
    "- 套用model在test data"
   ]
  },
  {
   "cell_type": "code",
   "execution_count": 117,
   "metadata": {},
   "outputs": [
    {
     "name": "stdout",
     "output_type": "stream",
     "text": [
      "(112, 4)\n",
      "(38, 4)\n",
      "0.9473684210526315\n"
     ]
    }
   ],
   "source": [
    "x_train, x_test, y_train, y_test = train_test_split(iris.data, iris.target, test_size=0.25, random_state = 30)\n",
    "clf = GradientBoostingClassifier()\n",
    "\n",
    "print(x_train.shape)\n",
    "print(x_test.shape)\n",
    "\n",
    "clf.fit(x_train, y_train)\n",
    "y_pred = clf.predict(x_test)\n",
    "print(metrics.accuracy_score(y_test, y_pred))"
   ]
  },
  {
   "cell_type": "code",
   "execution_count": 118,
   "metadata": {},
   "outputs": [
    {
     "name": "stderr",
     "output_type": "stream",
     "text": [
      "C:\\Users\\RyderWu\\AppData\\Local\\Continuum\\anaconda3\\lib\\site-packages\\sklearn\\model_selection\\_split.py:2053: FutureWarning: You should specify a value for 'cv' instead of relying on the default value. The default value will change from 3 to 5 in version 0.22.\n",
      "  warnings.warn(CV_WARNING, FutureWarning)\n"
     ]
    },
    {
     "name": "stdout",
     "output_type": "stream",
     "text": [
      "Fitting 3 folds for each of 25 candidates, totalling 75 fits\n"
     ]
    },
    {
     "name": "stderr",
     "output_type": "stream",
     "text": [
      "[Parallel(n_jobs=-1)]: Using backend LokyBackend with 4 concurrent workers.\n",
      "[Parallel(n_jobs=-1)]: Done  42 tasks      | elapsed:   25.9s\n",
      "[Parallel(n_jobs=-1)]: Done  75 out of  75 | elapsed:   29.2s finished\n",
      "C:\\Users\\RyderWu\\AppData\\Local\\Continuum\\anaconda3\\lib\\site-packages\\sklearn\\model_selection\\_search.py:841: DeprecationWarning: The default of the `iid` parameter will change from True to False in version 0.22 and will be removed in 0.24. This will change numeric results when test-set sizes are unequal.\n",
      "  DeprecationWarning)\n"
     ]
    },
    {
     "name": "stdout",
     "output_type": "stream",
     "text": [
      "FOLD 1: \n",
      "X_test:  (89, 4)\n",
      "Y_test:  (23, 4)\n",
      "accuracy_tmp:  0.9130434782608695\n",
      "Best Accuracy: -0.033708 using {'max_depth': 1, 'n_estimators': 75}\n",
      "------------------------------\n",
      "Fitting 3 folds for each of 25 candidates, totalling 75 fits\n"
     ]
    },
    {
     "name": "stderr",
     "output_type": "stream",
     "text": [
      "C:\\Users\\RyderWu\\AppData\\Local\\Continuum\\anaconda3\\lib\\site-packages\\sklearn\\model_selection\\_split.py:2053: FutureWarning: You should specify a value for 'cv' instead of relying on the default value. The default value will change from 3 to 5 in version 0.22.\n",
      "  warnings.warn(CV_WARNING, FutureWarning)\n",
      "[Parallel(n_jobs=-1)]: Using backend LokyBackend with 4 concurrent workers.\n",
      "[Parallel(n_jobs=-1)]: Done  68 out of  75 | elapsed:    7.3s remaining:    0.7s\n",
      "[Parallel(n_jobs=-1)]: Done  75 out of  75 | elapsed:    7.7s finished\n",
      "C:\\Users\\RyderWu\\AppData\\Local\\Continuum\\anaconda3\\lib\\site-packages\\sklearn\\model_selection\\_search.py:841: DeprecationWarning: The default of the `iid` parameter will change from True to False in version 0.22 and will be removed in 0.24. This will change numeric results when test-set sizes are unequal.\n",
      "  DeprecationWarning)\n"
     ]
    },
    {
     "name": "stdout",
     "output_type": "stream",
     "text": [
      "FOLD 2: \n",
      "X_test:  (89, 4)\n",
      "Y_test:  (23, 4)\n",
      "accuracy_tmp:  0.9565217391304348\n",
      "Best Accuracy: -0.033708 using {'max_depth': 1, 'n_estimators': 75}\n",
      "------------------------------\n",
      "Fitting 3 folds for each of 25 candidates, totalling 75 fits\n"
     ]
    },
    {
     "name": "stderr",
     "output_type": "stream",
     "text": [
      "C:\\Users\\RyderWu\\AppData\\Local\\Continuum\\anaconda3\\lib\\site-packages\\sklearn\\model_selection\\_split.py:2053: FutureWarning: You should specify a value for 'cv' instead of relying on the default value. The default value will change from 3 to 5 in version 0.22.\n",
      "  warnings.warn(CV_WARNING, FutureWarning)\n",
      "[Parallel(n_jobs=-1)]: Using backend LokyBackend with 4 concurrent workers.\n",
      "[Parallel(n_jobs=-1)]: Done  42 tasks      | elapsed:    3.3s\n",
      "[Parallel(n_jobs=-1)]: Done  75 out of  75 | elapsed:    5.6s finished\n",
      "C:\\Users\\RyderWu\\AppData\\Local\\Continuum\\anaconda3\\lib\\site-packages\\sklearn\\model_selection\\_search.py:841: DeprecationWarning: The default of the `iid` parameter will change from True to False in version 0.22 and will be removed in 0.24. This will change numeric results when test-set sizes are unequal.\n",
      "  DeprecationWarning)\n"
     ]
    },
    {
     "name": "stdout",
     "output_type": "stream",
     "text": [
      "FOLD 3: \n",
      "X_test:  (90, 4)\n",
      "Y_test:  (22, 4)\n",
      "accuracy_tmp:  1.0\n",
      "Best Accuracy: -0.044444 using {'max_depth': 2, 'n_estimators': 50}\n",
      "------------------------------\n",
      "Fitting 3 folds for each of 25 candidates, totalling 75 fits\n"
     ]
    },
    {
     "name": "stderr",
     "output_type": "stream",
     "text": [
      "C:\\Users\\RyderWu\\AppData\\Local\\Continuum\\anaconda3\\lib\\site-packages\\sklearn\\model_selection\\_split.py:2053: FutureWarning: You should specify a value for 'cv' instead of relying on the default value. The default value will change from 3 to 5 in version 0.22.\n",
      "  warnings.warn(CV_WARNING, FutureWarning)\n",
      "[Parallel(n_jobs=-1)]: Using backend LokyBackend with 4 concurrent workers.\n",
      "[Parallel(n_jobs=-1)]: Done  68 out of  75 | elapsed:    5.9s remaining:    0.5s\n",
      "[Parallel(n_jobs=-1)]: Done  75 out of  75 | elapsed:    6.4s finished\n",
      "C:\\Users\\RyderWu\\AppData\\Local\\Continuum\\anaconda3\\lib\\site-packages\\sklearn\\model_selection\\_search.py:841: DeprecationWarning: The default of the `iid` parameter will change from True to False in version 0.22 and will be removed in 0.24. This will change numeric results when test-set sizes are unequal.\n",
      "  DeprecationWarning)\n"
     ]
    },
    {
     "name": "stdout",
     "output_type": "stream",
     "text": [
      "FOLD 4: \n",
      "X_test:  (90, 4)\n",
      "Y_test:  (22, 4)\n",
      "accuracy_tmp:  1.0\n",
      "Best Accuracy: -0.044444 using {'max_depth': 2, 'n_estimators': 50}\n",
      "------------------------------\n",
      "Fitting 3 folds for each of 25 candidates, totalling 75 fits\n"
     ]
    },
    {
     "name": "stderr",
     "output_type": "stream",
     "text": [
      "C:\\Users\\RyderWu\\AppData\\Local\\Continuum\\anaconda3\\lib\\site-packages\\sklearn\\model_selection\\_split.py:2053: FutureWarning: You should specify a value for 'cv' instead of relying on the default value. The default value will change from 3 to 5 in version 0.22.\n",
      "  warnings.warn(CV_WARNING, FutureWarning)\n",
      "[Parallel(n_jobs=-1)]: Using backend LokyBackend with 4 concurrent workers.\n",
      "[Parallel(n_jobs=-1)]: Done  68 out of  75 | elapsed:    4.8s remaining:    0.4s\n"
     ]
    },
    {
     "name": "stdout",
     "output_type": "stream",
     "text": [
      "FOLD 5: \n",
      "X_test:  (90, 4)\n",
      "Y_test:  (22, 4)\n",
      "accuracy_tmp:  0.9090909090909091\n",
      "Best Accuracy: -0.022222 using {'max_depth': 1, 'n_estimators': 50}\n",
      "------------------------------\n"
     ]
    },
    {
     "name": "stderr",
     "output_type": "stream",
     "text": [
      "[Parallel(n_jobs=-1)]: Done  75 out of  75 | elapsed:    5.2s finished\n",
      "C:\\Users\\RyderWu\\AppData\\Local\\Continuum\\anaconda3\\lib\\site-packages\\sklearn\\model_selection\\_search.py:841: DeprecationWarning: The default of the `iid` parameter will change from True to False in version 0.22 and will be removed in 0.24. This will change numeric results when test-set sizes are unequal.\n",
      "  DeprecationWarning)\n"
     ]
    }
   ],
   "source": [
    "kf = KFold(n_splits=5)\n",
    "n_estimators = [50, 75, 100, 125, 150]\n",
    "max_depth = [1,2,3,4,5]\n",
    "param_grid = dict(n_estimators=n_estimators, max_depth=max_depth)\n",
    "\n",
    "i = 0\n",
    "for train_index, test_index in kf.split(x_train):\n",
    "    i +=1 \n",
    "    X_train_tmp, X_test_tmp = x_train[train_index], x_train[test_index]\n",
    "    y_train_tmp, y_test_tmp = y_train[train_index], y_train[test_index]\n",
    "#     print(\"index: \", train_index)\n",
    "#     print(\"index2: \", test_index)\n",
    "    \n",
    "    clf = GradientBoostingClassifier()\n",
    "#     clf.fit(X_train_tmp, y_train_tmp)\n",
    "#     y_pred_tmp = clf.predict(X_test_tmp)\n",
    "#     accuracy_tmp = metrics.accuracy_score(y_test_tmp, y_pred_tmp)\n",
    "    \n",
    "    ## 建立搜尋物件，放入模型及參數組合字典 (n_jobs=-1 會使用全部 cpu 平行運算)\n",
    "    grid_search = GridSearchCV(clf, param_grid, scoring=\"neg_mean_squared_error\", n_jobs=-1, verbose=1)\n",
    "    # 開始搜尋最佳參數\n",
    "    grid_result = grid_search.fit(X_train_tmp, y_train_tmp)\n",
    "    \n",
    "    # 使用最佳參數重新建立模型\n",
    "    clf_bestparam = GradientBoostingClassifier(max_depth=grid_result.best_params_['max_depth'],\n",
    "                                               n_estimators=grid_result.best_params_['n_estimators'])\n",
    "\n",
    "    # 訓練模型\n",
    "    clf_bestparam.fit(X_train_tmp, y_train_tmp)\n",
    "\n",
    "    # 預測測試集\n",
    "    y_pred_tmp = clf_bestparam.predict(X_test_tmp)\n",
    "    \n",
    "    print(\"FOLD {}: \".format(i))\n",
    "    print(\"X_test: \", X_train_tmp.shape)\n",
    "    print(\"Y_test: \", X_test_tmp.shape)\n",
    "    print(\"accuracy_tmp: \", metrics.accuracy_score(y_test_tmp, y_pred_tmp))\n",
    "    print(\"Best Accuracy: %f using %s\" % (grid_result.best_score_, grid_result.best_params_))\n",
    "    print(\"-\"*30)"
   ]
  },
  {
   "cell_type": "markdown",
   "metadata": {},
   "source": [
    "# 由每一輪的Cross Validation可以得知\n",
    "- 第2次 grid_search 參數:{max_depth:2 , n_estimators: 50}  的結果最準，Best Accuracy= 1.0"
   ]
  },
  {
   "cell_type": "code",
   "execution_count": 124,
   "metadata": {},
   "outputs": [
    {
     "name": "stdout",
     "output_type": "stream",
     "text": [
      "(112, 4)\n",
      "(38, 4)\n",
      "0.9473684210526315\n"
     ]
    }
   ],
   "source": [
    "x_train, x_test, y_train, y_test = train_test_split(iris.data, iris.target, test_size=0.25, random_state = 30)\n",
    "clf = GradientBoostingClassifier(max_depth=2, n_estimators=50)\n",
    "\n",
    "print(x_train.shape)\n",
    "print(x_test.shape)\n",
    "\n",
    "clf.fit(x_train, y_train)\n",
    "y_pred = clf.predict(x_test)\n",
    "print(metrics.accuracy_score(y_test, y_pred))"
   ]
  },
  {
   "cell_type": "markdown",
   "metadata": {},
   "source": [
    "# grid search使用參數: {max_depth:2 , n_estimators: 50} 得到最高的accuracy: 0.947"
   ]
  },
  {
   "cell_type": "markdown",
   "metadata": {},
   "source": [
    "# 隨機搜索參數調整\n",
    "- 時隨機從給定區間中選擇參數是很有效的方法，然後根據這些參數來評估算法的效果進而選擇最佳的那個\n",
    "- https://www.jishuwen.com/d/2vQJ/zh-tw"
   ]
  },
  {
   "cell_type": "code",
   "execution_count": 125,
   "metadata": {
    "scrolled": true
   },
   "outputs": [
    {
     "name": "stdout",
     "output_type": "stream",
     "text": [
      "(112, 4)\n",
      "(38, 4)\n",
      "0.9473684210526315\n"
     ]
    }
   ],
   "source": [
    "from sklearn.model_selection import RandomizedSearchCV\n",
    "from scipy.stats import uniform as sp_rand\n",
    "\n",
    "x_train, x_test, y_train, y_test = train_test_split(iris.data, iris.target, test_size=0.25, random_state = 30)\n",
    "clf = GradientBoostingClassifier()\n",
    "\n",
    "print(x_train.shape)\n",
    "print(x_test.shape)\n",
    "\n",
    "clf.fit(x_train, y_train)\n",
    "y_pred = clf.predict(x_test)\n",
    "print(metrics.accuracy_score(y_test, y_pred))"
   ]
  },
  {
   "cell_type": "code",
   "execution_count": 112,
   "metadata": {},
   "outputs": [
    {
     "data": {
      "text/plain": [
       "array([[12]])"
      ]
     },
     "execution_count": 112,
     "metadata": {},
     "output_type": "execute_result"
    }
   ],
   "source": [
    "from random import uniform\n",
    "\n",
    "sp_rand()\n",
    "np.floor(1.5)\n",
    "randint(1, 100)\n",
    "# uniform(0,3)\n",
    "np.random.randint(10, 15, (1, 5))\n",
    "np.random.randint(10, 15, (1, 1))"
   ]
  },
  {
   "cell_type": "code",
   "execution_count": 127,
   "metadata": {},
   "outputs": [
    {
     "name": "stderr",
     "output_type": "stream",
     "text": [
      "C:\\Users\\RyderWu\\AppData\\Local\\Continuum\\anaconda3\\lib\\site-packages\\sklearn\\model_selection\\_split.py:2053: FutureWarning: You should specify a value for 'cv' instead of relying on the default value. The default value will change from 3 to 5 in version 0.22.\n",
      "  warnings.warn(CV_WARNING, FutureWarning)\n",
      "C:\\Users\\RyderWu\\AppData\\Local\\Continuum\\anaconda3\\lib\\site-packages\\sklearn\\model_selection\\_search.py:841: DeprecationWarning: The default of the `iid` parameter will change from True to False in version 0.22 and will be removed in 0.24. This will change numeric results when test-set sizes are unequal.\n",
      "  DeprecationWarning)\n"
     ]
    },
    {
     "name": "stdout",
     "output_type": "stream",
     "text": [
      "RandomizedSearchCV(cv='warn', error_score='raise-deprecating',\n",
      "          estimator=GradientBoostingClassifier(criterion='friedman_mse', init=None,\n",
      "              learning_rate=0.1, loss='deviance', max_depth=3,\n",
      "              max_features=None, max_leaf_nodes=None,\n",
      "              min_impurity_decrease=0.0, min_impurity_split=None,\n",
      "              min_samples_leaf=1, min_sampl...      subsample=1.0, tol=0.0001, validation_fraction=0.1,\n",
      "              verbose=0, warm_start=False),\n",
      "          fit_params=None, iid='warn', n_iter=100, n_jobs=None,\n",
      "          param_distributions={'n_estimators': <scipy.stats._distn_infrastructure.rv_frozen object at 0x000000000A3D4DD8>, 'max_depth': <scipy.stats._distn_infrastructure.rv_frozen object at 0x000000000A3E0550>},\n",
      "          pre_dispatch='2*n_jobs', random_state=None, refit=True,\n",
      "          return_train_score='warn', scoring=None, verbose=0)\n",
      "param_grid {}:  {'n_estimators': <scipy.stats._distn_infrastructure.rv_frozen object at 0x000000000A3D4DD8>, 'max_depth': <scipy.stats._distn_infrastructure.rv_frozen object at 0x000000000A3E0550>}\n",
      "FOLD 1: \n",
      "X_test:  (89, 4)\n",
      "Y_test:  (23, 4)\n",
      "accuracy_tmp:  0.9565217391304348\n",
      "Best Accuracy: 0.966292 using {'max_depth': 2, 'n_estimators': 72}\n",
      "------------------------------\n"
     ]
    },
    {
     "name": "stderr",
     "output_type": "stream",
     "text": [
      "C:\\Users\\RyderWu\\AppData\\Local\\Continuum\\anaconda3\\lib\\site-packages\\sklearn\\model_selection\\_split.py:2053: FutureWarning: You should specify a value for 'cv' instead of relying on the default value. The default value will change from 3 to 5 in version 0.22.\n",
      "  warnings.warn(CV_WARNING, FutureWarning)\n",
      "C:\\Users\\RyderWu\\AppData\\Local\\Continuum\\anaconda3\\lib\\site-packages\\sklearn\\model_selection\\_search.py:841: DeprecationWarning: The default of the `iid` parameter will change from True to False in version 0.22 and will be removed in 0.24. This will change numeric results when test-set sizes are unequal.\n",
      "  DeprecationWarning)\n"
     ]
    },
    {
     "name": "stdout",
     "output_type": "stream",
     "text": [
      "RandomizedSearchCV(cv='warn', error_score='raise-deprecating',\n",
      "          estimator=GradientBoostingClassifier(criterion='friedman_mse', init=None,\n",
      "              learning_rate=0.1, loss='deviance', max_depth=3,\n",
      "              max_features=None, max_leaf_nodes=None,\n",
      "              min_impurity_decrease=0.0, min_impurity_split=None,\n",
      "              min_samples_leaf=1, min_sampl...      subsample=1.0, tol=0.0001, validation_fraction=0.1,\n",
      "              verbose=0, warm_start=False),\n",
      "          fit_params=None, iid='warn', n_iter=100, n_jobs=None,\n",
      "          param_distributions={'n_estimators': <scipy.stats._distn_infrastructure.rv_frozen object at 0x000000000A3D4DD8>, 'max_depth': <scipy.stats._distn_infrastructure.rv_frozen object at 0x000000000A3E0550>},\n",
      "          pre_dispatch='2*n_jobs', random_state=None, refit=True,\n",
      "          return_train_score='warn', scoring=None, verbose=0)\n",
      "param_grid {}:  {'n_estimators': <scipy.stats._distn_infrastructure.rv_frozen object at 0x000000000A3D4DD8>, 'max_depth': <scipy.stats._distn_infrastructure.rv_frozen object at 0x000000000A3E0550>}\n",
      "FOLD 2: \n",
      "X_test:  (89, 4)\n",
      "Y_test:  (23, 4)\n",
      "accuracy_tmp:  0.9565217391304348\n",
      "Best Accuracy: 0.966292 using {'max_depth': 1, 'n_estimators': 78}\n",
      "------------------------------\n"
     ]
    },
    {
     "name": "stderr",
     "output_type": "stream",
     "text": [
      "C:\\Users\\RyderWu\\AppData\\Local\\Continuum\\anaconda3\\lib\\site-packages\\sklearn\\model_selection\\_split.py:2053: FutureWarning: You should specify a value for 'cv' instead of relying on the default value. The default value will change from 3 to 5 in version 0.22.\n",
      "  warnings.warn(CV_WARNING, FutureWarning)\n",
      "C:\\Users\\RyderWu\\AppData\\Local\\Continuum\\anaconda3\\lib\\site-packages\\sklearn\\model_selection\\_search.py:841: DeprecationWarning: The default of the `iid` parameter will change from True to False in version 0.22 and will be removed in 0.24. This will change numeric results when test-set sizes are unequal.\n",
      "  DeprecationWarning)\n"
     ]
    },
    {
     "name": "stdout",
     "output_type": "stream",
     "text": [
      "RandomizedSearchCV(cv='warn', error_score='raise-deprecating',\n",
      "          estimator=GradientBoostingClassifier(criterion='friedman_mse', init=None,\n",
      "              learning_rate=0.1, loss='deviance', max_depth=3,\n",
      "              max_features=None, max_leaf_nodes=None,\n",
      "              min_impurity_decrease=0.0, min_impurity_split=None,\n",
      "              min_samples_leaf=1, min_sampl...      subsample=1.0, tol=0.0001, validation_fraction=0.1,\n",
      "              verbose=0, warm_start=False),\n",
      "          fit_params=None, iid='warn', n_iter=100, n_jobs=None,\n",
      "          param_distributions={'n_estimators': <scipy.stats._distn_infrastructure.rv_frozen object at 0x000000000A3D4DD8>, 'max_depth': <scipy.stats._distn_infrastructure.rv_frozen object at 0x000000000A3E0550>},\n",
      "          pre_dispatch='2*n_jobs', random_state=None, refit=True,\n",
      "          return_train_score='warn', scoring=None, verbose=0)\n",
      "param_grid {}:  {'n_estimators': <scipy.stats._distn_infrastructure.rv_frozen object at 0x000000000A3D4DD8>, 'max_depth': <scipy.stats._distn_infrastructure.rv_frozen object at 0x000000000A3E0550>}\n",
      "FOLD 3: \n",
      "X_test:  (90, 4)\n",
      "Y_test:  (22, 4)\n",
      "accuracy_tmp:  1.0\n",
      "Best Accuracy: 0.955556 using {'max_depth': 3, 'n_estimators': 85}\n",
      "------------------------------\n"
     ]
    },
    {
     "name": "stderr",
     "output_type": "stream",
     "text": [
      "C:\\Users\\RyderWu\\AppData\\Local\\Continuum\\anaconda3\\lib\\site-packages\\sklearn\\model_selection\\_split.py:2053: FutureWarning: You should specify a value for 'cv' instead of relying on the default value. The default value will change from 3 to 5 in version 0.22.\n",
      "  warnings.warn(CV_WARNING, FutureWarning)\n",
      "C:\\Users\\RyderWu\\AppData\\Local\\Continuum\\anaconda3\\lib\\site-packages\\sklearn\\model_selection\\_search.py:841: DeprecationWarning: The default of the `iid` parameter will change from True to False in version 0.22 and will be removed in 0.24. This will change numeric results when test-set sizes are unequal.\n",
      "  DeprecationWarning)\n"
     ]
    },
    {
     "name": "stdout",
     "output_type": "stream",
     "text": [
      "RandomizedSearchCV(cv='warn', error_score='raise-deprecating',\n",
      "          estimator=GradientBoostingClassifier(criterion='friedman_mse', init=None,\n",
      "              learning_rate=0.1, loss='deviance', max_depth=3,\n",
      "              max_features=None, max_leaf_nodes=None,\n",
      "              min_impurity_decrease=0.0, min_impurity_split=None,\n",
      "              min_samples_leaf=1, min_sampl...      subsample=1.0, tol=0.0001, validation_fraction=0.1,\n",
      "              verbose=0, warm_start=False),\n",
      "          fit_params=None, iid='warn', n_iter=100, n_jobs=None,\n",
      "          param_distributions={'n_estimators': <scipy.stats._distn_infrastructure.rv_frozen object at 0x000000000A3D4DD8>, 'max_depth': <scipy.stats._distn_infrastructure.rv_frozen object at 0x000000000A3E0550>},\n",
      "          pre_dispatch='2*n_jobs', random_state=None, refit=True,\n",
      "          return_train_score='warn', scoring=None, verbose=0)\n",
      "param_grid {}:  {'n_estimators': <scipy.stats._distn_infrastructure.rv_frozen object at 0x000000000A3D4DD8>, 'max_depth': <scipy.stats._distn_infrastructure.rv_frozen object at 0x000000000A3E0550>}\n",
      "FOLD 4: \n",
      "X_test:  (90, 4)\n",
      "Y_test:  (22, 4)\n",
      "accuracy_tmp:  1.0\n",
      "Best Accuracy: 0.955556 using {'max_depth': 2, 'n_estimators': 82}\n",
      "------------------------------\n"
     ]
    },
    {
     "name": "stderr",
     "output_type": "stream",
     "text": [
      "C:\\Users\\RyderWu\\AppData\\Local\\Continuum\\anaconda3\\lib\\site-packages\\sklearn\\model_selection\\_split.py:2053: FutureWarning: You should specify a value for 'cv' instead of relying on the default value. The default value will change from 3 to 5 in version 0.22.\n",
      "  warnings.warn(CV_WARNING, FutureWarning)\n",
      "C:\\Users\\RyderWu\\AppData\\Local\\Continuum\\anaconda3\\lib\\site-packages\\sklearn\\model_selection\\_search.py:841: DeprecationWarning: The default of the `iid` parameter will change from True to False in version 0.22 and will be removed in 0.24. This will change numeric results when test-set sizes are unequal.\n",
      "  DeprecationWarning)\n"
     ]
    },
    {
     "name": "stdout",
     "output_type": "stream",
     "text": [
      "RandomizedSearchCV(cv='warn', error_score='raise-deprecating',\n",
      "          estimator=GradientBoostingClassifier(criterion='friedman_mse', init=None,\n",
      "              learning_rate=0.1, loss='deviance', max_depth=3,\n",
      "              max_features=None, max_leaf_nodes=None,\n",
      "              min_impurity_decrease=0.0, min_impurity_split=None,\n",
      "              min_samples_leaf=1, min_sampl...      subsample=1.0, tol=0.0001, validation_fraction=0.1,\n",
      "              verbose=0, warm_start=False),\n",
      "          fit_params=None, iid='warn', n_iter=100, n_jobs=None,\n",
      "          param_distributions={'n_estimators': <scipy.stats._distn_infrastructure.rv_frozen object at 0x000000000A3D4DD8>, 'max_depth': <scipy.stats._distn_infrastructure.rv_frozen object at 0x000000000A3E0550>},\n",
      "          pre_dispatch='2*n_jobs', random_state=None, refit=True,\n",
      "          return_train_score='warn', scoring=None, verbose=0)\n",
      "param_grid {}:  {'n_estimators': <scipy.stats._distn_infrastructure.rv_frozen object at 0x000000000A3D4DD8>, 'max_depth': <scipy.stats._distn_infrastructure.rv_frozen object at 0x000000000A3E0550>}\n",
      "FOLD 5: \n",
      "X_test:  (90, 4)\n",
      "Y_test:  (22, 4)\n",
      "accuracy_tmp:  0.9090909090909091\n",
      "Best Accuracy: 0.977778 using {'max_depth': 2, 'n_estimators': 38}\n",
      "------------------------------\n"
     ]
    }
   ],
   "source": [
    "from random import randint\n",
    "from scipy.stats import uniform as sp_rand\n",
    "from scipy.stats import randint as sp_randint\n",
    "\n",
    "kf = KFold(n_splits=5)\n",
    "# n_estimators = [50, 75, 100, 125, 150]\n",
    "# max_depth = [1,2,3,4,5]\n",
    "param_grid = dict(n_estimators= sp_randint(1,100), max_depth= sp_randint(1,10))\n",
    "\n",
    "i = 0\n",
    "for train_index, test_index in kf.split(x_train):\n",
    "    i +=1 \n",
    "    X_train_tmp, X_test_tmp = x_train[train_index], x_train[test_index]\n",
    "    y_train_tmp, y_test_tmp = y_train[train_index], y_train[test_index]\n",
    "#     print(\"index: \", train_index)\n",
    "#     print(\"index2: \", test_index)\n",
    "    \n",
    "    clf = GradientBoostingClassifier()\n",
    "#     clf.fit(X_train_tmp, y_train_tmp)\n",
    "#     y_pred_tmp = clf.predict(X_test_tmp)\n",
    "#     accuracy_tmp = metrics.accuracy_score(y_test_tmp, y_pred_tmp)\n",
    "    \n",
    "    ## 建立搜尋物件，放入模型及參數組合字典 (n_jobs=-1 會使用全部 cpu 平行運算)\n",
    "#     grid_search = GridSearchCV(clf, param_grid, scoring=\"neg_mean_squared_error\", n_jobs=-1, verbose=1)\n",
    "\n",
    "    rand_search = RandomizedSearchCV(estimator=clf, param_distributions=param_grid, n_iter=100)\n",
    "\n",
    "\n",
    "    # 開始搜尋最佳參數\n",
    "    rand_result = rand_search.fit(X_train_tmp, y_train_tmp)\n",
    "    print(rand_search)\n",
    "    print(\"param_grid {}: \", param_grid)\n",
    "\n",
    "    \n",
    "    # 使用最佳參數重新建立模型\n",
    "    clf_bestparam = GradientBoostingClassifier(max_depth=rand_result.best_params_['max_depth'],\n",
    "                                               n_estimators=rand_result.best_params_['n_estimators'])\n",
    "\n",
    "    # 訓練模型\n",
    "    clf_bestparam.fit(X_train_tmp, y_train_tmp)\n",
    "\n",
    "    # 預測測試集\n",
    "    y_pred_tmp = clf_bestparam.predict(X_test_tmp)\n",
    "    \n",
    "    print(\"FOLD {}: \".format(i))\n",
    "    print(\"X_test: \", X_train_tmp.shape)\n",
    "    print(\"Y_test: \", X_test_tmp.shape)\n",
    "    print(\"accuracy_tmp: \", metrics.accuracy_score(y_test_tmp, y_pred_tmp))\n",
    "    print(\"Best Accuracy: %f using %s\" % (rand_result.best_score_, rand_result.best_params_))\n",
    "    print(\"-\"*30)"
   ]
  },
  {
   "cell_type": "markdown",
   "metadata": {},
   "source": [
    "# 由每一輪的Cross Validation可以得知\n",
    "- 第5次 random_search 得到參數:{max_depth:2 , n_estimators: 38}  最準，Best Accuracy = 0.9777"
   ]
  },
  {
   "cell_type": "code",
   "execution_count": 129,
   "metadata": {},
   "outputs": [
    {
     "name": "stdout",
     "output_type": "stream",
     "text": [
      "(112, 4)\n",
      "(38, 4)\n",
      "0.9473684210526315\n"
     ]
    }
   ],
   "source": [
    "x_train, x_test, y_train, y_test = train_test_split(iris.data, iris.target, test_size=0.25, random_state = 30)\n",
    "clf = GradientBoostingClassifier(max_depth=2, n_estimators=38)\n",
    "\n",
    "print(x_train.shape)\n",
    "print(x_test.shape)\n",
    "\n",
    "clf.fit(x_train, y_train)\n",
    "y_pred = clf.predict(x_test)\n",
    "print(metrics.accuracy_score(y_test, y_pred))"
   ]
  },
  {
   "cell_type": "markdown",
   "metadata": {},
   "source": [
    "# random search使用參數: {max_depth:2 , n_estimators: 38} 得到最高的accuracy: 0.947"
   ]
  }
 ],
 "metadata": {
  "kernelspec": {
   "display_name": "Python 3",
   "language": "python",
   "name": "python3"
  },
  "language_info": {
   "codemirror_mode": {
    "name": "ipython",
    "version": 3
   },
   "file_extension": ".py",
   "mimetype": "text/x-python",
   "name": "python",
   "nbconvert_exporter": "python",
   "pygments_lexer": "ipython3",
   "version": "3.7.1"
  }
 },
 "nbformat": 4,
 "nbformat_minor": 2
}
